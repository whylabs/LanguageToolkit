{
 "cells": [
  {
   "attachments": {},
   "cell_type": "markdown",
   "metadata": {},
   "source": [
    "# Tracking Sentiment and Toxicity Scores in Text with Langkit\n",
    "\n",
    "In this example, we'll show how you can easily track sentiment and toxicity scores in text with Langkit.\n",
    "\n"
   ]
  },
  {
   "attachments": {},
   "cell_type": "markdown",
   "metadata": {},
   "source": [
    "As an example, we'll use the [tweet_eval dataset](https://huggingface.co/datasets/tweet_eval). We'll use the `hateful` subset of the dataset, which contains tweets labeled as hateful or not hateful."
   ]
  },
  {
   "cell_type": "code",
   "execution_count": 1,
   "metadata": {},
   "outputs": [
    {
     "name": "stderr",
     "output_type": "stream",
     "text": [
      "/home/felipeadachi/.cache/pypoetry/virtualenvs/langkit-vSL8Mxyz-py3.8/lib/python3.8/site-packages/tqdm/auto.py:21: TqdmWarning: IProgress not found. Please update jupyter and ipywidgets. See https://ipywidgets.readthedocs.io/en/stable/user_install.html\n",
      "  from .autonotebook import tqdm as notebook_tqdm\n"
     ]
    }
   ],
   "source": [
    "from datasets import load_dataset\n",
    "\n",
    "hateful_comments = load_dataset('tweet_eval','hate',split=\"train\", streaming=True)\n",
    "comments = iter(hateful_comments)"
   ]
  },
  {
   "attachments": {},
   "cell_type": "markdown",
   "metadata": {},
   "source": [
    "## Initializing the Metrics\n",
    "\n",
    "To initialize the `toxicity` and `sentiment` metrics, we simply import the respective modules from `langkit`. This will automatically register the metrics, so we can start using them right away by creating a schema by calling `generate_udf_schema`. We will pass that schema to whylogs, so that it knows which metrics to track."
   ]
  },
  {
   "cell_type": "code",
   "execution_count": null,
   "metadata": {},
   "outputs": [],
   "source": [
    "\n",
    "from whylogs.experimental.core.metrics.udf_metric import generate_udf_schema\n",
    "from whylogs.core.schema import DeclarativeSchema\n",
    "from langkit.toxicity import *\n",
    "from langkit.sentiment import *\n",
    "\n",
    "text_schema = DeclarativeSchema(generate_udf_schema())"
   ]
  },
  {
   "attachments": {},
   "cell_type": "markdown",
   "metadata": {},
   "source": [
    "## Profiling the Data\n",
    "\n",
    "Now we're set to log our data.\n",
    "\n",
    "To make sure the metrics make sense, we will profile two separate groups of data:\n",
    "- hateful comments: comments that are labeled as hateful\n",
    "- non-hateful comments: comments that are labeled as non-hateful\n",
    "\n",
    "We can expect hateful comments to have a higher toxicity score and a lower sentiment score than non-hateful comments.\n",
    "\n",
    "Let's see if our metrics will reflect that."
   ]
  },
  {
   "cell_type": "code",
   "execution_count": 4,
   "metadata": {},
   "outputs": [],
   "source": [
    "import whylogs as why\n",
    "\n",
    "# Just initializing the profiles with generic comments.\n",
    "non_hateful_profile = why.log({\"comment\":\"I love flowers.\"}, schema=text_schema).profile()\n",
    "hateful_profile = why.log({\"comment\":\"I hate biscuits.\"}, schema=text_schema).profile()\n",
    "\n",
    "for _ in range(200):\n",
    "  comment = next(comments)\n",
    "  if comment['label'] == 0:\n",
    "    non_hateful_profile.track({\"comment\":comment['text']})\n",
    "  else:\n",
    "    hateful_profile.track({\"comment\":comment['text']})\n"
   ]
  },
  {
   "attachments": {},
   "cell_type": "markdown",
   "metadata": {},
   "source": [
    "Now that we have our profiles, let's check out the metrics. Let's compare the mean for our sentiment and toxicity scores, for each group (hateful and non-hateful):"
   ]
  },
  {
   "cell_type": "code",
   "execution_count": 5,
   "metadata": {},
   "outputs": [
    {
     "name": "stdout",
     "output_type": "stream",
     "text": [
      "######### Sentiment #########\n",
      "The average sentiment score for the hateful comments is -0.37580107526881734\n",
      "The average sentiment score for the non-hateful comments is -0.062103669724770626\n",
      "######### Toxicity #########\n",
      "The average toxicity score for the hateful comments is 0.37868364139269756\n",
      "The average toxicity score for the non-hateful comments is 0.13610724024816392\n"
     ]
    }
   ],
   "source": [
    "hateful_sentiment = hateful_profile.view().to_pandas()['udf/sentiment_nltk:distribution/mean'][0]\n",
    "non_hateful_sentiment = non_hateful_profile.view().to_pandas()['udf/sentiment_nltk:distribution/mean'][0]\n",
    "\n",
    "hateful_toxicity = hateful_profile.view().to_pandas()['udf/toxicity:distribution/mean'][0]\n",
    "non_hateful_toxicity = non_hateful_profile.view().to_pandas()['udf/toxicity:distribution/mean'][0]\n",
    "\n",
    "print(\"######### Sentiment #########\")\n",
    "print(f\"The average sentiment score for the hateful comments is {hateful_sentiment}\")\n",
    "print(f\"The average sentiment score for the non-hateful comments is {non_hateful_sentiment}\")\n",
    "\n",
    "print(\"######### Toxicity #########\")\n",
    "print(f\"The average toxicity score for the hateful comments is {hateful_toxicity}\")\n",
    "print(f\"The average toxicity score for the non-hateful comments is {non_hateful_toxicity}\")"
   ]
  }
 ],
 "metadata": {
  "kernelspec": {
   "display_name": "langkit-vSL8Mxyz-py3.8",
   "language": "python",
   "name": "python3"
  },
  "language_info": {
   "codemirror_mode": {
    "name": "ipython",
    "version": 3
   },
   "file_extension": ".py",
   "mimetype": "text/x-python",
   "name": "python",
   "nbconvert_exporter": "python",
   "pygments_lexer": "ipython3",
   "version": "3.8.10"
  },
  "orig_nbformat": 4
 },
 "nbformat": 4,
 "nbformat_minor": 2
}
